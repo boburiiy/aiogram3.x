{
 "cells": [
  {
   "cell_type": "code",
   "execution_count": 4,
   "id": "68d3c356",
   "metadata": {},
   "outputs": [],
   "source": [
    "from dispatcher.config import *\n"
   ]
  },
  {
   "cell_type": "code",
   "execution_count": 6,
   "id": "abcc65c0",
   "metadata": {},
   "outputs": [
    {
     "name": "stdout",
     "output_type": "stream",
     "text": [
      "6269268841:AAFJK4lhW-39xz_1uwfJtuobrlJdOSk44Js\n"
     ]
    }
   ],
   "source": [
    "print(TOKEN)"
   ]
  }
 ],
 "metadata": {
  "kernelspec": {
   "display_name": "Python 3",
   "language": "python",
   "name": "python3"
  },
  "language_info": {
   "codemirror_mode": {
    "name": "ipython",
    "version": 3
   },
   "file_extension": ".py",
   "mimetype": "text/x-python",
   "name": "python",
   "nbconvert_exporter": "python",
   "pygments_lexer": "ipython3",
   "version": "3.11.9"
  }
 },
 "nbformat": 4,
 "nbformat_minor": 5
}
